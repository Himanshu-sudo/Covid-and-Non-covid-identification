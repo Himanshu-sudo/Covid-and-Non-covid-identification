{
  "nbformat": 4,
  "nbformat_minor": 0,
  "metadata": {
    "colab": {
      "name": "COVID19_CT_Scan.ipynb",
      "provenance": []
    },
    "kernelspec": {
      "display_name": "Python 3",
      "name": "python3"
    },
    "language_info": {
      "name": "python"
    }
  },
  "cells": [
    {
      "cell_type": "code",
      "metadata": {
        "id": "KOV4t1rcNyZe"
      },
      "source": [
        "import cv2\n",
        "import numpy as np\n",
        "import matplotlib.pyplot as plt"
      ],
      "execution_count": 62,
      "outputs": []
    },
    {
      "cell_type": "code",
      "metadata": {
        "colab": {
          "base_uri": "https://localhost:8080/"
        },
        "id": "FOkH2xFvP1R8",
        "outputId": "37147e8b-fe76-4909-cd57-1db16fde1885"
      },
      "source": [
        "from google.colab import drive\n",
        "\n",
        "drive.mount('/content/drive')"
      ],
      "execution_count": 63,
      "outputs": [
        {
          "output_type": "stream",
          "text": [
            "Drive already mounted at /content/drive; to attempt to forcibly remount, call drive.mount(\"/content/drive\", force_remount=True).\n"
          ],
          "name": "stdout"
        }
      ]
    },
    {
      "cell_type": "code",
      "metadata": {
        "colab": {
          "base_uri": "https://localhost:8080/"
        },
        "id": "w76xUfW7QgUM",
        "outputId": "3d0b16f6-79d3-40e4-ff4f-a0cf3d010469"
      },
      "source": [
        "import os\n",
        "\n",
        "os.chdir('/content/drive/My Drive/DL_NITK/COVID_19_CT_Data')\n",
        "print(os.getcwd())"
      ],
      "execution_count": 64,
      "outputs": [
        {
          "output_type": "stream",
          "text": [
            "/content/drive/My Drive/DL_NITK/COVID_19_CT_Data\n"
          ],
          "name": "stdout"
        }
      ]
    },
    {
      "cell_type": "code",
      "metadata": {
        "id": "hGACiK8GdoJq"
      },
      "source": [
        "def load_images(directory):\n",
        "  img_array = []\n",
        "  class_name = []\n",
        "\n",
        "  for dir in os.listdir(directory):\n",
        "    for file in os.listdir(os.path.join(directory, dir)):\n",
        "      image_path = os.path.join(directory, dir, file)\n",
        "      image = cv2.imread(image_path)\n",
        "      image = np.array(image)\n",
        "      #plt.imshow(image, cmap = 'gray')\n",
        "      #plt.show()\n",
        "      img_array.append(image)\n",
        "      class_name.append(dir)\n",
        "\n",
        "  return np.array(img_array), np.array(class_name)\n"
      ],
      "execution_count": 66,
      "outputs": []
    },
    {
      "cell_type": "code",
      "metadata": {
        "id": "XXe2KRzgmipO"
      },
      "source": [
        "train_dir = '/content/drive/My Drive/DL_NITK/COVID_19_CT_Data/Train'\n",
        "test_dir = '/content/drive/My Drive/DL_NITK/COVID_19_CT_Data/Test'\n",
        "\n",
        "x_train, y_train = load_images(train_dir)\n",
        "x_test, y_test = load_images(test_dir)"
      ],
      "execution_count": 67,
      "outputs": []
    },
    {
      "cell_type": "code",
      "metadata": {
        "colab": {
          "base_uri": "https://localhost:8080/"
        },
        "id": "h2szt0IgpHSk",
        "outputId": "be5f5a30-d989-4e83-d4b2-2cce61e7a645"
      },
      "source": [
        "print(type(x_train))\n",
        "print(x_train.shape)\n",
        "\n",
        "print(type(y_train))\n",
        "print(y_train.shape)\n",
        "\n",
        "print(type(x_test))\n",
        "print(x_test.shape)\n",
        "\n",
        "print(type(y_test))\n",
        "print(y_test.shape)"
      ],
      "execution_count": 68,
      "outputs": [
        {
          "output_type": "stream",
          "text": [
            "<class 'numpy.ndarray'>\n",
            "(1400, 100, 100, 3)\n",
            "<class 'numpy.ndarray'>\n",
            "(1400,)\n",
            "<class 'numpy.ndarray'>\n",
            "(586, 100, 100, 3)\n",
            "<class 'numpy.ndarray'>\n",
            "(586,)\n"
          ],
          "name": "stdout"
        }
      ]
    },
    {
      "cell_type": "code",
      "metadata": {
        "colab": {
          "base_uri": "https://localhost:8080/"
        },
        "id": "3_XeH7IC9wPV",
        "outputId": "58f2fe72-201d-4574-f382-ff83bfe33bbe"
      },
      "source": [
        "print(y_train[690:710])"
      ],
      "execution_count": 69,
      "outputs": [
        {
          "output_type": "stream",
          "text": [
            "['non-COVID' 'non-COVID' 'non-COVID' 'non-COVID' 'non-COVID' 'non-COVID'\n",
            " 'non-COVID' 'non-COVID' 'non-COVID' 'non-COVID' 'COVID' 'COVID' 'COVID'\n",
            " 'COVID' 'COVID' 'COVID' 'COVID' 'COVID' 'COVID' 'COVID']\n"
          ],
          "name": "stdout"
        }
      ]
    },
    {
      "cell_type": "code",
      "metadata": {
        "colab": {
          "base_uri": "https://localhost:8080/"
        },
        "id": "JSDHpmKQjzL8",
        "outputId": "d9843e94-66e0-48ea-cab2-daacecdb1474"
      },
      "source": [
        "print(x_train[0])"
      ],
      "execution_count": 70,
      "outputs": [
        {
          "output_type": "stream",
          "text": [
            "[[[ 63  63  63]\n",
            "  [ 63  63  63]\n",
            "  [ 62  62  62]\n",
            "  ...\n",
            "  [ 64  64  64]\n",
            "  [ 64  64  64]\n",
            "  [ 64  64  64]]\n",
            "\n",
            " [[ 63  63  63]\n",
            "  [ 63  63  63]\n",
            "  [ 64  64  64]\n",
            "  ...\n",
            "  [ 65  65  65]\n",
            "  [ 64  64  64]\n",
            "  [ 64  64  64]]\n",
            "\n",
            " [[ 62  62  62]\n",
            "  [ 63  63  63]\n",
            "  [ 64  64  64]\n",
            "  ...\n",
            "  [ 64  64  64]\n",
            "  [ 63  63  63]\n",
            "  [ 63  63  63]]\n",
            "\n",
            " ...\n",
            "\n",
            " [[ 59  59  59]\n",
            "  [134 134 134]\n",
            "  [237 237 237]\n",
            "  ...\n",
            "  [237 237 237]\n",
            "  [133 133 133]\n",
            "  [ 53  53  53]]\n",
            "\n",
            " [[ 91  91  91]\n",
            "  [ 71  71  71]\n",
            "  [143 143 143]\n",
            "  ...\n",
            "  [121 121 121]\n",
            "  [ 56  56  56]\n",
            "  [ 67  67  67]]\n",
            "\n",
            " [[ 78  78  78]\n",
            "  [ 91  91  91]\n",
            "  [ 82  82  82]\n",
            "  ...\n",
            "  [ 56  56  56]\n",
            "  [ 71  71  71]\n",
            "  [ 68  68  68]]]\n"
          ],
          "name": "stdout"
        }
      ]
    },
    {
      "cell_type": "code",
      "metadata": {
        "colab": {
          "base_uri": "https://localhost:8080/",
          "height": 167
        },
        "id": "x4gjlttlqvpH",
        "outputId": "1f11aee1-8c0c-4485-ea08-37198da9c741"
      },
      "source": [
        "plt.subplot(222).imshow(x_train[0], cmap='gray')"
      ],
      "execution_count": 71,
      "outputs": [
        {
          "output_type": "execute_result",
          "data": {
            "text/plain": [
              "<matplotlib.image.AxesImage at 0x7ffa3b3c8390>"
            ]
          },
          "metadata": {
            "tags": []
          },
          "execution_count": 71
        },
        {
          "output_type": "display_data",
          "data": {
            "image/png": "[encoded data removed]",
            "text/plain": [
              "<Figure size 432x288 with 1 Axes>"
            ]
          },
          "metadata": {
            "tags": [],
            "needs_background": "light"
          }
        }
      ]
    },
    {
      "cell_type": "markdown",
      "metadata": {
        "id": "VCR9j_6n-t-N"
      },
      "source": [
        "## Normalization"
      ]
    },
    {
      "cell_type": "code",
      "metadata": {
        "id": "EkeqinUq-Ssx"
      },
      "source": [
        "x_train = x_train.astype('float32')\n",
        "x_test = x_test.astype('float32')"
      ],
      "execution_count": 72,
      "outputs": []
    },
    {
      "cell_type": "code",
      "metadata": {
        "colab": {
          "base_uri": "https://localhost:8080/"
        },
        "id": "tY-hyqLa_FOI",
        "outputId": "23d3f2da-12dc-4c7b-871a-fa548b8e4b9f"
      },
      "source": [
        "print (np.max(x_train), np.max(x_test))\n",
        "print (np.min(x_train), np.min(x_test))\n",
        "\n",
        "mean = np.mean(x_train)\n",
        "std  = np.std(x_train)\n",
        "\n",
        "print(mean)\n",
        "print(std)"
      ],
      "execution_count": 73,
      "outputs": [
        {
          "output_type": "stream",
          "text": [
            "255.0 255.0\n",
            "0.0 0.0\n",
            "167.02438\n",
            "68.25805\n"
          ],
          "name": "stdout"
        }
      ]
    },
    {
      "cell_type": "code",
      "metadata": {
        "id": "dt4krFae_qQq",
        "colab": {
          "base_uri": "https://localhost:8080/"
        },
        "outputId": "c991e384-66ac-41d3-ec27-a054bfa958b8"
      },
      "source": [
        "x_train -= mean\n",
        "x_train /= std\n",
        "\n",
        "x_test -= mean\n",
        "x_test /= std\n",
        "\n",
        "print (np.max(x_train),np.max(x_test))\n",
        "print (np.min(x_train),np.min(x_test))"
      ],
      "execution_count": 74,
      "outputs": [
        {
          "output_type": "stream",
          "text": [
            "1.2888681 1.2888681\n",
            "-2.4469552 -2.4469552\n"
          ],
          "name": "stdout"
        }
      ]
    },
    {
      "cell_type": "code",
      "metadata": {
        "colab": {
          "base_uri": "https://localhost:8080/"
        },
        "id": "s9pZx3L___C4",
        "outputId": "4bf7f89e-c547-46c0-9604-760676e16758"
      },
      "source": [
        "print(x_train[0])"
      ],
      "execution_count": 75,
      "outputs": [
        {
          "output_type": "stream",
          "text": [
            "[[[-1.52 -1.52 -1.52]\n",
            "  [-1.52 -1.52 -1.52]\n",
            "  [-1.54 -1.54 -1.54]\n",
            "  ...\n",
            "  [-1.51 -1.51 -1.51]\n",
            "  [-1.51 -1.51 -1.51]\n",
            "  [-1.51 -1.51 -1.51]]\n",
            "\n",
            " [[-1.52 -1.52 -1.52]\n",
            "  [-1.52 -1.52 -1.52]\n",
            "  [-1.51 -1.51 -1.51]\n",
            "  ...\n",
            "  [-1.49 -1.49 -1.49]\n",
            "  [-1.51 -1.51 -1.51]\n",
            "  [-1.51 -1.51 -1.51]]\n",
            "\n",
            " [[-1.54 -1.54 -1.54]\n",
            "  [-1.52 -1.52 -1.52]\n",
            "  [-1.51 -1.51 -1.51]\n",
            "  ...\n",
            "  [-1.51 -1.51 -1.51]\n",
            "  [-1.52 -1.52 -1.52]\n",
            "  [-1.52 -1.52 -1.52]]\n",
            "\n",
            " ...\n",
            "\n",
            " [[-1.58 -1.58 -1.58]\n",
            "  [-0.48 -0.48 -0.48]\n",
            "  [ 1.03  1.03  1.03]\n",
            "  ...\n",
            "  [ 1.03  1.03  1.03]\n",
            "  [-0.5  -0.5  -0.5 ]\n",
            "  [-1.67 -1.67 -1.67]]\n",
            "\n",
            " [[-1.11 -1.11 -1.11]\n",
            "  [-1.41 -1.41 -1.41]\n",
            "  [-0.35 -0.35 -0.35]\n",
            "  ...\n",
            "  [-0.67 -0.67 -0.67]\n",
            "  [-1.63 -1.63 -1.63]\n",
            "  [-1.47 -1.47 -1.47]]\n",
            "\n",
            " [[-1.3  -1.3  -1.3 ]\n",
            "  [-1.11 -1.11 -1.11]\n",
            "  [-1.25 -1.25 -1.25]\n",
            "  ...\n",
            "  [-1.63 -1.63 -1.63]\n",
            "  [-1.41 -1.41 -1.41]\n",
            "  [-1.45 -1.45 -1.45]]]\n"
          ],
          "name": "stdout"
        }
      ]
    },
    {
      "cell_type": "markdown",
      "metadata": {
        "id": "H9E0l_vgAUjp"
      },
      "source": [
        "## Encoding"
      ]
    },
    {
      "cell_type": "code",
      "metadata": {
        "id": "fGSi4T1xCeKz"
      },
      "source": [
        "from sklearn.preprocessing import LabelEncoder\n",
        "from keras.utils import to_categorical\n",
        "\n",
        "label_encoder = LabelEncoder()\n",
        "y_train = label_encoder.fit_transform(y_train)\n",
        "y_test = label_encoder.fit_transform(y_test)\n",
        "\n",
        "y_train = to_categorical(y_train)\n",
        "y_test = to_categorical(y_test)"
      ],
      "execution_count": 76,
      "outputs": []
    },
    {
      "cell_type": "code",
      "metadata": {
        "colab": {
          "base_uri": "https://localhost:8080/"
        },
        "id": "J4H3NKecDFuJ",
        "outputId": "e3c84d74-9395-472a-f5fc-38b456c62a71"
      },
      "source": [
        "print(y_train.shape)\n",
        "print(y_test.shape)"
      ],
      "execution_count": 77,
      "outputs": [
        {
          "output_type": "stream",
          "text": [
            "(1400, 2)\n",
            "(586, 2)\n"
          ],
          "name": "stdout"
        }
      ]
    },
    {
      "cell_type": "code",
      "metadata": {
        "colab": {
          "base_uri": "https://localhost:8080/"
        },
        "id": "LENJeejYDY8G",
        "outputId": "4a2d5514-9637-43d8-b26f-d31227de381d"
      },
      "source": [
        "y_train[695:705]"
      ],
      "execution_count": 78,
      "outputs": [
        {
          "output_type": "execute_result",
          "data": {
            "text/plain": [
              "array([[0., 1.],\n",
              "       [0., 1.],\n",
              "       [0., 1.],\n",
              "       [0., 1.],\n",
              "       [0., 1.],\n",
              "       [1., 0.],\n",
              "       [1., 0.],\n",
              "       [1., 0.],\n",
              "       [1., 0.],\n",
              "       [1., 0.]], dtype=float32)"
            ]
          },
          "metadata": {
            "tags": []
          },
          "execution_count": 78
        }
      ]
    },
    {
      "cell_type": "markdown",
      "metadata": {
        "id": "OBdCpi9NXZp0"
      },
      "source": [
        "## Suffle Data"
      ]
    },
    {
      "cell_type": "code",
      "metadata": {
        "id": "lWJ3awjqXZGV"
      },
      "source": [
        "from sklearn.utils import shuffle\n",
        "\n",
        "x_train, y_train = shuffle(x_train, y_train)\n",
        "x_test, y_test = shuffle(x_test, y_test)"
      ],
      "execution_count": 79,
      "outputs": []
    },
    {
      "cell_type": "markdown",
      "metadata": {
        "id": "uhWv9zErDqrb"
      },
      "source": [
        "## CNN Model"
      ]
    },
    {
      "cell_type": "code",
      "metadata": {
        "id": "gJ-nVG39vpcP"
      },
      "source": [
        "import keras,os\n",
        "from keras.models import Sequential\n",
        "from keras.models import Model\n",
        "from keras.layers import Dense, Conv2D, MaxPool2D , Flatten\n",
        "from keras.applications.vgg16 import VGG16\n",
        "import numpy as np"
      ],
      "execution_count": 80,
      "outputs": []
    },
    {
      "cell_type": "code",
      "metadata": {
        "colab": {
          "base_uri": "https://localhost:8080/"
        },
        "id": "tIQ5UPB-vvKy",
        "outputId": "52aa09bd-83a7-4465-cbea-a6c1204ab7cb"
      },
      "source": [
        "model = Sequential()\n",
        "\n",
        "model.add(Conv2D(input_shape=(224,224,3),filters=64,kernel_size=(3,3),padding=\"same\", activation=\"relu\"))\n",
        "model.add(Conv2D(filters=64,kernel_size=(3,3),padding=\"same\", activation=\"relu\"))\n",
        "model.add(MaxPool2D(pool_size=(2,2),strides=(2,2)))\n",
        "\n",
        "model.add(Conv2D(filters=128, kernel_size=(3,3), padding=\"same\", activation=\"relu\"))\n",
        "model.add(Conv2D(filters=128, kernel_size=(3,3), padding=\"same\", activation=\"relu\"))\n",
        "model.add(MaxPool2D(pool_size=(2,2),strides=(2,2)))\n",
        "\n",
        "model.add(Conv2D(filters=256, kernel_size=(3,3), padding=\"same\", activation=\"relu\"))\n",
        "model.add(Conv2D(filters=256, kernel_size=(3,3), padding=\"same\", activation=\"relu\"))\n",
        "model.add(Conv2D(filters=256, kernel_size=(3,3), padding=\"same\", activation=\"relu\"))\n",
        "model.add(MaxPool2D(pool_size=(2,2),strides=(2,2)))\n",
        "\n",
        "model.add(Conv2D(filters=512, kernel_size=(3,3), padding=\"same\", activation=\"relu\"))\n",
        "model.add(Conv2D(filters=512, kernel_size=(3,3), padding=\"same\", activation=\"relu\"))\n",
        "model.add(Conv2D(filters=512, kernel_size=(3,3), padding=\"same\", activation=\"relu\"))\n",
        "model.add(MaxPool2D(pool_size=(2,2),strides=(2,2)))\n",
        "\n",
        "model.add(Conv2D(filters=512, kernel_size=(3,3), padding=\"same\", activation=\"relu\"))\n",
        "model.add(Conv2D(filters=512, kernel_size=(3,3), padding=\"same\", activation=\"relu\"))\n",
        "model.add(Conv2D(filters=512, kernel_size=(3,3), padding=\"same\", activation=\"relu\"))\n",
        "model.add(MaxPool2D(pool_size=(2,2),strides=(2,2)))\n",
        "\n",
        "model.add(Flatten())\n",
        "model.add(Dense(units=4096,activation=\"relu\"))\n",
        "model.add(Dense(units=4096,activation=\"relu\"))\n",
        "model.add(Dense(units=1, activation=\"sigmoid\")) \n",
        "##units are 1 because we are using binary activation\n",
        "\n",
        "model.summary()"
      ],
      "execution_count": 81,
      "outputs": [
        {
          "output_type": "stream",
          "text": [
            "Model: \"sequential_6\"\n",
            "_________________________________________________________________\n",
            "Layer (type)                 Output Shape              Param #   \n",
            "=================================================================\n",
            "conv2d_54 (Conv2D)           (None, 224, 224, 64)      1792      \n",
            "_________________________________________________________________\n",
            "conv2d_55 (Conv2D)           (None, 224, 224, 64)      36928     \n",
            "_________________________________________________________________\n",
            "max_pooling2d_21 (MaxPooling (None, 112, 112, 64)      0         \n",
            "_________________________________________________________________\n",
            "conv2d_56 (Conv2D)           (None, 112, 112, 128)     73856     \n",
            "_________________________________________________________________\n",
            "conv2d_57 (Conv2D)           (None, 112, 112, 128)     147584    \n",
            "_________________________________________________________________\n",
            "max_pooling2d_22 (MaxPooling (None, 56, 56, 128)       0         \n",
            "_________________________________________________________________\n",
            "conv2d_58 (Conv2D)           (None, 56, 56, 256)       295168    \n",
            "_________________________________________________________________\n",
            "conv2d_59 (Conv2D)           (None, 56, 56, 256)       590080    \n",
            "_________________________________________________________________\n",
            "conv2d_60 (Conv2D)           (None, 56, 56, 256)       590080    \n",
            "_________________________________________________________________\n",
            "max_pooling2d_23 (MaxPooling (None, 28, 28, 256)       0         \n",
            "_________________________________________________________________\n",
            "conv2d_61 (Conv2D)           (None, 28, 28, 512)       1180160   \n",
            "_________________________________________________________________\n",
            "conv2d_62 (Conv2D)           (None, 28, 28, 512)       2359808   \n",
            "_________________________________________________________________\n",
            "conv2d_63 (Conv2D)           (None, 28, 28, 512)       2359808   \n",
            "_________________________________________________________________\n",
            "max_pooling2d_24 (MaxPooling (None, 14, 14, 512)       0         \n",
            "_________________________________________________________________\n",
            "conv2d_64 (Conv2D)           (None, 14, 14, 512)       2359808   \n",
            "_________________________________________________________________\n",
            "conv2d_65 (Conv2D)           (None, 14, 14, 512)       2359808   \n",
            "_________________________________________________________________\n",
            "conv2d_66 (Conv2D)           (None, 14, 14, 512)       2359808   \n",
            "_________________________________________________________________\n",
            "max_pooling2d_25 (MaxPooling (None, 7, 7, 512)         0         \n",
            "_________________________________________________________________\n",
            "flatten_7 (Flatten)          (None, 25088)             0         \n",
            "_________________________________________________________________\n",
            "dense_15 (Dense)             (None, 4096)              102764544 \n",
            "_________________________________________________________________\n",
            "dense_16 (Dense)             (None, 4096)              16781312  \n",
            "_________________________________________________________________\n",
            "dense_17 (Dense)             (None, 1)                 4097      \n",
            "=================================================================\n",
            "Total params: 134,264,641\n",
            "Trainable params: 134,264,641\n",
            "Non-trainable params: 0\n",
            "_________________________________________________________________\n"
          ],
          "name": "stdout"
        }
      ]
    },
    {
      "cell_type": "code",
      "metadata": {
        "colab": {
          "base_uri": "https://localhost:8080/"
        },
        "id": "7_1xnm9b_OTD",
        "outputId": "e768abca-217d-4a0c-8d03-bcc704992ca2"
      },
      "source": [
        "# model = keras.applications.VGG16(\n",
        "#     include_top=True,\n",
        "#     weights=None,\n",
        "#     input_tensor=None,\n",
        "#     input_shape=(100, 100, 1),\n",
        "#     pooling=None,\n",
        "#     classes=2,\n",
        "#     classifier_activation=\"softmax\")\n",
        "\n",
        "vgg = VGG16(input_shape=(100, 100, 3), weights='imagenet', include_top=False)\n",
        "\n",
        "for layer in vgg.layers:\n",
        "  layer.trainable = False\n",
        "\n",
        "x = Flatten()(vgg.output)\n",
        "prediction = Dense(2, activation='softmax')(x)\n",
        "model = Model(inputs=vgg.input, outputs=prediction)\n",
        "model.summary()"
      ],
      "execution_count": 86,
      "outputs": [
        {
          "output_type": "stream",
          "text": [
            "Model: \"model_3\"\n",
            "_________________________________________________________________\n",
            "Layer (type)                 Output Shape              Param #   \n",
            "=================================================================\n",
            "input_11 (InputLayer)        [(None, 100, 100, 3)]     0         \n",
            "_________________________________________________________________\n",
            "block1_conv1 (Conv2D)        (None, 100, 100, 64)      1792      \n",
            "_________________________________________________________________\n",
            "block1_conv2 (Conv2D)        (None, 100, 100, 64)      36928     \n",
            "_________________________________________________________________\n",
            "block1_pool (MaxPooling2D)   (None, 50, 50, 64)        0         \n",
            "_________________________________________________________________\n",
            "block2_conv1 (Conv2D)        (None, 50, 50, 128)       73856     \n",
            "_________________________________________________________________\n",
            "block2_conv2 (Conv2D)        (None, 50, 50, 128)       147584    \n",
            "_________________________________________________________________\n",
            "block2_pool (MaxPooling2D)   (None, 25, 25, 128)       0         \n",
            "_________________________________________________________________\n",
            "block3_conv1 (Conv2D)        (None, 25, 25, 256)       295168    \n",
            "_________________________________________________________________\n",
            "block3_conv2 (Conv2D)        (None, 25, 25, 256)       590080    \n",
            "_________________________________________________________________\n",
            "block3_conv3 (Conv2D)        (None, 25, 25, 256)       590080    \n",
            "_________________________________________________________________\n",
            "block3_pool (MaxPooling2D)   (None, 12, 12, 256)       0         \n",
            "_________________________________________________________________\n",
            "block4_conv1 (Conv2D)        (None, 12, 12, 512)       1180160   \n",
            "_________________________________________________________________\n",
            "block4_conv2 (Conv2D)        (None, 12, 12, 512)       2359808   \n",
            "_________________________________________________________________\n",
            "block4_conv3 (Conv2D)        (None, 12, 12, 512)       2359808   \n",
            "_________________________________________________________________\n",
            "block4_pool (MaxPooling2D)   (None, 6, 6, 512)         0         \n",
            "_________________________________________________________________\n",
            "block5_conv1 (Conv2D)        (None, 6, 6, 512)         2359808   \n",
            "_________________________________________________________________\n",
            "block5_conv2 (Conv2D)        (None, 6, 6, 512)         2359808   \n",
            "_________________________________________________________________\n",
            "block5_conv3 (Conv2D)        (None, 6, 6, 512)         2359808   \n",
            "_________________________________________________________________\n",
            "block5_pool (MaxPooling2D)   (None, 3, 3, 512)         0         \n",
            "_________________________________________________________________\n",
            "flatten_9 (Flatten)          (None, 4608)              0         \n",
            "_________________________________________________________________\n",
            "dense_19 (Dense)             (None, 2)                 9218      \n",
            "=================================================================\n",
            "Total params: 14,723,906\n",
            "Trainable params: 9,218\n",
            "Non-trainable params: 14,714,688\n",
            "_________________________________________________________________\n"
          ],
          "name": "stdout"
        }
      ]
    },
    {
      "cell_type": "code",
      "metadata": {
        "id": "KdH_x3FtwBY7"
      },
      "source": [
        "from keras.optimizers import Adam\n",
        "opt = Adam(lr=0.001)\n",
        "\n",
        "model.compile(optimizer='adam', loss=keras.losses.binary_crossentropy, metrics=['accuracy'])"
      ],
      "execution_count": 87,
      "outputs": []
    },
    {
      "cell_type": "code",
      "metadata": {
        "id": "qZ-kxXCNwTRo"
      },
      "source": [
        "import os\n",
        "os.chdir(\"/content/drive/My Drive/DL_NITK/Assignment\")\n",
        "from keras.callbacks import ModelCheckpoint, CSVLogger, EarlyStopping\n",
        "mc = ModelCheckpoint('covidvgg19.h5', monitor='val_loss', save_best_only=True)\n",
        "cv = CSVLogger('covidvgg19.csv',append=True)\n",
        "\n",
        "#early = EarlyStopping(monitor='val_acc', min_delta=0, patience=20, verbose=1, mode='auto')"
      ],
      "execution_count": 88,
      "outputs": []
    },
    {
      "cell_type": "code",
      "metadata": {
        "colab": {
          "base_uri": "https://localhost:8080/"
        },
        "id": "Cfwq8HaFwfIy",
        "outputId": "a6ea7585-e3e7-465f-ac7c-eebdaa1433f8"
      },
      "source": [
        "history=model.fit(x_train, y_train, validation_split=(0.2), batch_size=32, callbacks= [mc,cv], epochs=10, verbose=1)"
      ],
      "execution_count": 97,
      "outputs": [
        {
          "output_type": "stream",
          "text": [
            "Epoch 1/10\n",
            "35/35 [==============================] - 134s 4s/step - loss: 0.1943 - accuracy: 0.9464 - val_loss: 0.1953 - val_accuracy: 0.9464\n",
            "Epoch 2/10\n",
            "35/35 [==============================] - 133s 4s/step - loss: 0.1695 - accuracy: 0.9571 - val_loss: 0.1757 - val_accuracy: 0.9536\n",
            "Epoch 3/10\n",
            "35/35 [==============================] - 132s 4s/step - loss: 0.1517 - accuracy: 0.9616 - val_loss: 0.1883 - val_accuracy: 0.9357\n",
            "Epoch 4/10\n",
            "35/35 [==============================] - 132s 4s/step - loss: 0.1485 - accuracy: 0.9625 - val_loss: 0.1584 - val_accuracy: 0.9643\n",
            "Epoch 5/10\n",
            "35/35 [==============================] - 132s 4s/step - loss: 0.1305 - accuracy: 0.9714 - val_loss: 0.1685 - val_accuracy: 0.9357\n",
            "Epoch 6/10\n",
            "35/35 [==============================] - 132s 4s/step - loss: 0.1177 - accuracy: 0.9804 - val_loss: 0.1517 - val_accuracy: 0.9393\n",
            "Epoch 7/10\n",
            "35/35 [==============================] - 132s 4s/step - loss: 0.1057 - accuracy: 0.9821 - val_loss: 0.1427 - val_accuracy: 0.9607\n",
            "Epoch 8/10\n",
            "35/35 [==============================] - 132s 4s/step - loss: 0.0973 - accuracy: 0.9821 - val_loss: 0.1375 - val_accuracy: 0.9643\n",
            "Epoch 9/10\n",
            "35/35 [==============================] - 132s 4s/step - loss: 0.0971 - accuracy: 0.9839 - val_loss: 0.1361 - val_accuracy: 0.9571\n",
            "Epoch 10/10\n",
            "35/35 [==============================] - 132s 4s/step - loss: 0.0868 - accuracy: 0.9857 - val_loss: 0.1458 - val_accuracy: 0.9429\n"
          ],
          "name": "stdout"
        }
      ]
    },
    {
      "cell_type": "markdown",
      "metadata": {
        "id": "HqO_vMZKVie2"
      },
      "source": [
        "## Evaluate"
      ]
    },
    {
      "cell_type": "code",
      "metadata": {
        "colab": {
          "base_uri": "https://localhost:8080/"
        },
        "id": "HvqHK5pSVlL4",
        "outputId": "2b91ecef-fe30-410f-c95c-6f1b586c957b"
      },
      "source": [
        "test_loss, test_acc = model.evaluate(x_test, y_test)\n",
        "print(test_loss)\n",
        "print(test_acc)"
      ],
      "execution_count": 98,
      "outputs": [
        {
          "output_type": "stream",
          "text": [
            "19/19 [==============================] - 56s 3s/step - loss: 0.9126 - accuracy: 0.6416\n",
            "0.9126457571983337\n",
            "0.6416382193565369\n"
          ],
          "name": "stdout"
        }
      ]
    },
    {
      "cell_type": "markdown",
      "metadata": {
        "id": "-Z3Z08PdWiDF"
      },
      "source": [
        "## Loss and Accuracy Curves"
      ]
    },
    {
      "cell_type": "code",
      "metadata": {
        "id": "JDsk11zNWl7T"
      },
      "source": [
        "train_loss = history.history['loss']\n",
        "train_acc = history.history['accuracy']\n",
        "val_loss = history.history['val_loss']\n",
        "val_acc = history.history['val_accuracy']\n",
        "xc=range(len(train_loss))"
      ],
      "execution_count": 99,
      "outputs": []
    },
    {
      "cell_type": "code",
      "metadata": {
        "colab": {
          "base_uri": "https://localhost:8080/",
          "height": 299
        },
        "id": "4mvJfPF_Wqcq",
        "outputId": "76145ecf-2007-4e5f-ce24-34857b23dc5f"
      },
      "source": [
        "import matplotlib.pyplot as plt\n",
        "%matplotlib inline\n",
        "plt.plot(xc, train_loss)\n",
        "plt.plot(xc, val_loss)\n",
        "plt.xlabel(\"Epoch\")\n",
        "plt.ylabel(\"Loss\")\n",
        "plt.legend(['train','val'])"
      ],
      "execution_count": 100,
      "outputs": [
        {
          "output_type": "execute_result",
          "data": {
            "text/plain": [
              "<matplotlib.legend.Legend at 0x7ffa3b4a29d0>"
            ]
          },
          "metadata": {
            "tags": []
          },
          "execution_count": 100
        },
        {
          "output_type": "display_data",
          "data": {
            "image/png": "[encoded data removed]",
            "text/plain": [
              "<Figure size 432x288 with 1 Axes>"
            ]
          },
          "metadata": {
            "tags": [],
            "needs_background": "light"
          }
        }
      ]
    },
    {
      "cell_type": "code",
      "metadata": {
        "colab": {
          "base_uri": "https://localhost:8080/",
          "height": 296
        },
        "id": "ICOY7SBMWtYt",
        "outputId": "ec14f744-6e28-466a-9e5d-03251d422357"
      },
      "source": [
        "import matplotlib.pyplot as plt\n",
        "%matplotlib inline\n",
        "plt.plot(xc, train_acc)\n",
        "plt.plot(xc, val_acc)\n",
        "plt.xlabel(\"Epoch\")\n",
        "plt.ylabel(\"Acc\")\n",
        "plt.legend(['train','val'])"
      ],
      "execution_count": 101,
      "outputs": [
        {
          "output_type": "execute_result",
          "data": {
            "text/plain": [
              "<matplotlib.legend.Legend at 0x7ffa3b9b9050>"
            ]
          },
          "metadata": {
            "tags": []
          },
          "execution_count": 101
        },
        {
          "output_type": "display_data",
          "data": {
            "image/png": "[encoded data removed]",
            "text/plain": [
              "<Figure size 432x288 with 1 Axes>"
            ]
          },
          "metadata": {
            "tags": [],
            "needs_background": "light"
          }
        }
      ]
    },
    {
      "cell_type": "code",
      "metadata": {
        "colab": {
          "base_uri": "https://localhost:8080/"
        },
        "id": "WDCGNr_mW4-r",
        "outputId": "e0cae3fe-32ed-43e7-e42d-e3b613d5c27a"
      },
      "source": [
        "import numpy as np\n",
        "from sklearn.metrics import classification_report,confusion_matrix\n",
        "import itertools\n",
        "\n",
        "Y_pred = model.predict(x_test)\n",
        "y_pred = np.argmax(Y_pred, axis=1)\n",
        "target_names = ['COVID', 'NON COVID']\n",
        "print(classification_report(np.argmax(y_test,axis=1), y_pred,target_names=target_names))"
      ],
      "execution_count": 102,
      "outputs": [
        {
          "output_type": "stream",
          "text": [
            "              precision    recall  f1-score   support\n",
            "\n",
            "       COVID       0.73      0.48      0.58       302\n",
            "   NON COVID       0.60      0.81      0.69       284\n",
            "\n",
            "    accuracy                           0.64       586\n",
            "   macro avg       0.66      0.65      0.63       586\n",
            "weighted avg       0.66      0.64      0.63       586\n",
            "\n"
          ],
          "name": "stdout"
        }
      ]
    },
    {
      "cell_type": "code",
      "metadata": {
        "id": "qljq9sgmX3Ui"
      },
      "source": [
        "def plot_confusion_matrix(cm, classes,\n",
        "                          normalize=False,\n",
        "                          title='Confusion matrix',\n",
        "                          cmap=plt.cm.Blues):\n",
        "    \"\"\"\n",
        "    This function prints and plots the confusion matrix.\n",
        "    Normalization can be applied by setting `normalize=True`.\n",
        "    \"\"\"\n",
        "    plt.imshow(cm, interpolation='nearest', cmap=cmap)\n",
        "    plt.title(title)\n",
        "    plt.colorbar()\n",
        "    tick_marks = np.arange(len(classes))\n",
        "    plt.xticks(tick_marks, classes, rotation=45)\n",
        "    plt.yticks(tick_marks, classes)\n",
        "\n",
        "    if normalize:\n",
        "        cm = cm.astype('float') / cm.sum(axis=1)[:, np.newaxis]\n",
        "        print(\"Normalized confusion matrix\")\n",
        "    else:\n",
        "        print('Confusion matrix, without normalization')\n",
        "\n",
        "    print(cm)\n",
        "\n",
        "    thresh = cm.max() / 2.\n",
        "    for i, j in itertools.product(range(cm.shape[0]), range(cm.shape[1])):\n",
        "        plt.text(j, i, cm[i, j],\n",
        "                 horizontalalignment=\"center\",\n",
        "                 color=\"white\" if cm[i, j] > thresh else \"black\")\n",
        "        \n",
        "\n",
        "    plt.tight_layout()\n",
        "    plt.ylabel('True label')\n",
        "    plt.xlabel('Predicted label')"
      ],
      "execution_count": 103,
      "outputs": []
    },
    {
      "cell_type": "code",
      "metadata": {
        "colab": {
          "base_uri": "https://localhost:8080/",
          "height": 414
        },
        "id": "69Uq-IavYRP6",
        "outputId": "d3a76ccd-3075-4800-885b-f890aa792f1c"
      },
      "source": [
        "cnf_matrix = (confusion_matrix(np.argmax(y_test,axis=1), y_pred))\n",
        "np.set_printoptions(precision=2)\n",
        "plt.figure(figsize=(5, 5))\n",
        "plot_confusion_matrix(cnf_matrix, classes=target_names,\n",
        "                      title='Confusion matrix')\n",
        "#plt.show()"
      ],
      "execution_count": 104,
      "outputs": [
        {
          "output_type": "stream",
          "text": [
            "Confusion matrix, without normalization\n",
            "[[146 156]\n",
            " [ 54 230]]\n"
          ],
          "name": "stdout"
        },
        {
          "output_type": "display_data",
          "data": {
            "image/png": "[encoded data removed]",
            "text/plain": [
              "<Figure size 360x360 with 2 Axes>"
            ]
          },
          "metadata": {
            "tags": [],
            "needs_background": "light"
          }
        }
      ]
    }
  ]
}